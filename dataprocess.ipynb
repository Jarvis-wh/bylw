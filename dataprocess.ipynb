{
 "cells": [
  {
   "attachments": {},
   "cell_type": "markdown",
   "metadata": {},
   "source": [
    "## 载入序列数据"
   ]
  },
  {
   "cell_type": "code",
   "execution_count": 27,
   "metadata": {},
   "outputs": [],
   "source": [
    "import pandas as pd"
   ]
  },
  {
   "cell_type": "code",
   "execution_count": 28,
   "metadata": {},
   "outputs": [],
   "source": [
    "events_df = pd.read_csv('./data/retailrocket/events.csv')\n",
    "category_tree_df = pd.read_csv('./data/retailrocket/category_tree.csv')\n",
    "item_properties_1_df = pd.read_csv('./data/retailrocket/item_properties_part1.csv')\n",
    "item_properties_2_df = pd.read_csv('./data/retailrocket/item_properties_part2.csv')"
   ]
  },
  {
   "cell_type": "code",
   "execution_count": 29,
   "metadata": {},
   "outputs": [],
   "source": [
    "item_properties_df = pd.concat([item_properties_1_df, item_properties_2_df])"
   ]
  },
  {
   "cell_type": "code",
   "execution_count": null,
   "metadata": {},
   "outputs": [],
   "source": [
    "events_df.head()"
   ]
  },
  {
   "attachments": {},
   "cell_type": "markdown",
   "metadata": {},
   "source": [
    "删除event和transactionid无用信息"
   ]
  },
  {
   "cell_type": "code",
   "execution_count": 31,
   "metadata": {},
   "outputs": [],
   "source": [
    "events_df = events_df.drop(['event', 'transactionid'],axis=1)"
   ]
  },
  {
   "attachments": {},
   "cell_type": "markdown",
   "metadata": {},
   "source": [
    "按照时间和id排序"
   ]
  },
  {
   "cell_type": "code",
   "execution_count": 32,
   "metadata": {},
   "outputs": [],
   "source": [
    "events_df = events_df.sort_values(['visitorid', 'timestamp'])"
   ]
  },
  {
   "cell_type": "code",
   "execution_count": null,
   "metadata": {},
   "outputs": [],
   "source": [
    "events_df"
   ]
  },
  {
   "cell_type": "code",
   "execution_count": null,
   "metadata": {},
   "outputs": [],
   "source": [
    "events_df = events_df.reset_index(drop=True)\n",
    "events_df"
   ]
  },
  {
   "attachments": {},
   "cell_type": "markdown",
   "metadata": {},
   "source": [
    "drop掉行动序列小于3的"
   ]
  },
  {
   "cell_type": "code",
   "execution_count": 21,
   "metadata": {},
   "outputs": [
    {
     "data": {
      "text/plain": [
       "Int64Index([      0,       2,       6,       7,      23,      37,      51,\n",
       "                 54,      60,      64,\n",
       "            ...\n",
       "            1407503, 1407504, 1407511, 1407512, 1407513, 1407526, 1407527,\n",
       "            1407528, 1407530, 1407573],\n",
       "           dtype='int64', length=200028)"
      ]
     },
     "execution_count": 21,
     "metadata": {},
     "output_type": "execute_result"
    }
   ],
   "source": [
    "users = events_df['visitorid']\n",
    "users = users.value_counts()\n",
    "users = users.iloc[users.values > 2].index\n",
    "users = users.sort_values()\n",
    "users"
   ]
  },
  {
   "cell_type": "code",
   "execution_count": 35,
   "metadata": {},
   "outputs": [],
   "source": [
    "group = events_df.groupby('visitorid',group_keys=False).groups"
   ]
  },
  {
   "cell_type": "code",
   "execution_count": 40,
   "metadata": {},
   "outputs": [
    {
     "data": {
      "text/plain": [
       "1407580"
      ]
     },
     "execution_count": 40,
     "metadata": {},
     "output_type": "execute_result"
    }
   ],
   "source": [
    "len(group)"
   ]
  },
  {
   "cell_type": "code",
   "execution_count": 69,
   "metadata": {},
   "outputs": [],
   "source": [
    "user_list=[]\n",
    "action_list=[]\n",
    "all_items=[]\n",
    "for user in events_df.visitorid.unique().tolist():\n",
    "    item_list=[]\n",
    "    for item in group[user]:  # 将user访问过的不重复的item加入到item列表中\n",
    "        item = events_df['itemid'][item]\n",
    "        #print(item not in item_list)\n",
    "        if item not in item_list:\n",
    "            item_list.append(item)\n",
    "    if len(item_list) > 3: # 如果访问过的不重复的物品序列长度大于k则加入到最终的数据集中\n",
    "        user_list.append(user)\n",
    "        action_list.append(item_list)\n",
    "        all_items += item_list"
   ]
  },
  {
   "cell_type": "code",
   "execution_count": 70,
   "metadata": {},
   "outputs": [
    {
     "data": {
      "text/plain": [
       "63294"
      ]
     },
     "execution_count": 70,
     "metadata": {},
     "output_type": "execute_result"
    }
   ],
   "source": [
    "len(user_list)"
   ]
  },
  {
   "cell_type": "code",
   "execution_count": 71,
   "metadata": {},
   "outputs": [
    {
     "data": {
      "text/plain": [
       "521872"
      ]
     },
     "execution_count": 71,
     "metadata": {},
     "output_type": "execute_result"
    }
   ],
   "source": [
    "len(all_items)"
   ]
  },
  {
   "cell_type": "code",
   "execution_count": 74,
   "metadata": {},
   "outputs": [
    {
     "data": {
      "text/plain": [
       "103218"
      ]
     },
     "execution_count": 74,
     "metadata": {},
     "output_type": "execute_result"
    }
   ],
   "source": [
    "item_set = set(all_items)\n",
    "len(item_set)"
   ]
  },
  {
   "cell_type": "code",
   "execution_count": 84,
   "metadata": {},
   "outputs": [],
   "source": [
    "item2id = dict(zip(item_set, range(len(item_set))))"
   ]
  },
  {
   "attachments": {},
   "cell_type": "markdown",
   "metadata": {},
   "source": [
    "把actionlist里的itemid改为新规范过的id"
   ]
  },
  {
   "cell_type": "code",
   "execution_count": 80,
   "metadata": {},
   "outputs": [],
   "source": [
    "id_action_list=[]\n",
    "for lst in action_list:\n",
    "    ids=[]\n",
    "    for item in lst:\n",
    "        item = item2id[item]\n",
    "        ids.append(item)\n",
    "    id_action_list.append(ids)"
   ]
  },
  {
   "cell_type": "code",
   "execution_count": 82,
   "metadata": {},
   "outputs": [],
   "source": [
    "data = {'user':user_list, 'actions':id_action_list}\n",
    "df = pd.DataFrame(data)"
   ]
  },
  {
   "cell_type": "code",
   "execution_count": 83,
   "metadata": {},
   "outputs": [
    {
     "data": {
      "text/html": [
       "<div>\n",
       "<style scoped>\n",
       "    .dataframe tbody tr th:only-of-type {\n",
       "        vertical-align: middle;\n",
       "    }\n",
       "\n",
       "    .dataframe tbody tr th {\n",
       "        vertical-align: top;\n",
       "    }\n",
       "\n",
       "    .dataframe thead th {\n",
       "        text-align: right;\n",
       "    }\n",
       "</style>\n",
       "<table border=\"1\" class=\"dataframe\">\n",
       "  <thead>\n",
       "    <tr style=\"text-align: right;\">\n",
       "      <th></th>\n",
       "      <th>user</th>\n",
       "      <th>actions</th>\n",
       "    </tr>\n",
       "  </thead>\n",
       "  <tbody>\n",
       "    <tr>\n",
       "      <th>0</th>\n",
       "      <td>2</td>\n",
       "      <td>[27951, 102740, 93055, 35878]</td>\n",
       "    </tr>\n",
       "    <tr>\n",
       "      <th>1</th>\n",
       "      <td>51</td>\n",
       "      <td>[42809, 87860, 73955, 22139, 7477]</td>\n",
       "    </tr>\n",
       "    <tr>\n",
       "      <th>2</th>\n",
       "      <td>54</td>\n",
       "      <td>[55906, 9268, 17288, 25489, 79585, 100361]</td>\n",
       "    </tr>\n",
       "    <tr>\n",
       "      <th>3</th>\n",
       "      <td>64</td>\n",
       "      <td>[62800, 14865, 96783, 52590, 94869, 71226]</td>\n",
       "    </tr>\n",
       "    <tr>\n",
       "      <th>4</th>\n",
       "      <td>74</td>\n",
       "      <td>[20064, 26393, 25324, 103214, 24745]</td>\n",
       "    </tr>\n",
       "    <tr>\n",
       "      <th>...</th>\n",
       "      <td>...</td>\n",
       "      <td>...</td>\n",
       "    </tr>\n",
       "    <tr>\n",
       "      <th>63289</th>\n",
       "      <td>1407437</td>\n",
       "      <td>[56666, 49145, 15467, 51064]</td>\n",
       "    </tr>\n",
       "    <tr>\n",
       "      <th>63290</th>\n",
       "      <td>1407476</td>\n",
       "      <td>[43100, 77981, 33107, 91130, 102364]</td>\n",
       "    </tr>\n",
       "    <tr>\n",
       "      <th>63291</th>\n",
       "      <td>1407479</td>\n",
       "      <td>[60040, 73148, 42512, 72572, 23216, 48534]</td>\n",
       "    </tr>\n",
       "    <tr>\n",
       "      <th>63292</th>\n",
       "      <td>1407512</td>\n",
       "      <td>[47890, 45389, 28656, 23983, 32329, 12684, 603...</td>\n",
       "    </tr>\n",
       "    <tr>\n",
       "      <th>63293</th>\n",
       "      <td>1407573</td>\n",
       "      <td>[6158, 96513, 51689, 97354, 25576, 44873, 8912...</td>\n",
       "    </tr>\n",
       "  </tbody>\n",
       "</table>\n",
       "<p>63294 rows × 2 columns</p>\n",
       "</div>"
      ],
      "text/plain": [
       "          user                                            actions\n",
       "0            2                      [27951, 102740, 93055, 35878]\n",
       "1           51                 [42809, 87860, 73955, 22139, 7477]\n",
       "2           54         [55906, 9268, 17288, 25489, 79585, 100361]\n",
       "3           64         [62800, 14865, 96783, 52590, 94869, 71226]\n",
       "4           74               [20064, 26393, 25324, 103214, 24745]\n",
       "...        ...                                                ...\n",
       "63289  1407437                       [56666, 49145, 15467, 51064]\n",
       "63290  1407476               [43100, 77981, 33107, 91130, 102364]\n",
       "63291  1407479         [60040, 73148, 42512, 72572, 23216, 48534]\n",
       "63292  1407512  [47890, 45389, 28656, 23983, 32329, 12684, 603...\n",
       "63293  1407573  [6158, 96513, 51689, 97354, 25576, 44873, 8912...\n",
       "\n",
       "[63294 rows x 2 columns]"
      ]
     },
     "execution_count": 83,
     "metadata": {},
     "output_type": "execute_result"
    }
   ],
   "source": [
    "df"
   ]
  },
  {
   "attachments": {},
   "cell_type": "markdown",
   "metadata": {},
   "source": [
    "两个任务：\n",
    "1. 将在序列中的itemid映射到[1, item_size]的区间中\n",
    "2. 查看大小"
   ]
  }
 ],
 "metadata": {
  "kernelspec": {
   "display_name": "base",
   "language": "python",
   "name": "python3"
  },
  "language_info": {
   "codemirror_mode": {
    "name": "ipython",
    "version": 3
   },
   "file_extension": ".py",
   "mimetype": "text/x-python",
   "name": "python",
   "nbconvert_exporter": "python",
   "pygments_lexer": "ipython3",
   "version": "3.9.16"
  },
  "orig_nbformat": 4
 },
 "nbformat": 4,
 "nbformat_minor": 2
}
