{
 "cells": [
  {
   "cell_type": "code",
   "execution_count": null,
   "metadata": {},
   "outputs": [],
   "source": [
    "import tensorflow as tf\n",
    "import pandas as pd\n",
    "import numpy as np\n"
   ]
  },
  {
   "cell_type": "code",
   "execution_count": null,
   "metadata": {},
   "outputs": [],
   "source": [
    "events_df = pd.read_csv('./data/retailrocket/events.csv')\n",
    "category_tree_df = pd.read_csv('./data/retailrocket/category_tree.csv')\n",
    "item_properties_1_df = pd.read_csv('./data/retailrocket/item_properties_part1.csv')\n",
    "item_properties_2_df = pd.read_csv('./data/retailrocket/item_properties_part2.csv')"
   ]
  },
  {
   "cell_type": "code",
   "execution_count": null,
   "metadata": {},
   "outputs": [],
   "source": [
    "item_properties_df = pd.concat([item_properties_1_df, item_properties_2_df])\n"
   ]
  },
  {
   "cell_type": "code",
   "execution_count": null,
   "metadata": {},
   "outputs": [],
   "source": [
    "item_properties_df.itemid.unique().tolist()"
   ]
  },
  {
   "cell_type": "code",
   "execution_count": null,
   "metadata": {},
   "outputs": [],
   "source": [
    "tf.raw_ops.OneHot(indices=item_properties_df.itemid.unique().tolist(),depth=len(item_properties_df.itemid.unique()),on_value=1,off_value=0)"
   ]
  },
  {
   "cell_type": "code",
   "execution_count": null,
   "metadata": {},
   "outputs": [],
   "source": [
    "events_df = events_df.drop([\"event\",\"transactionid\"],axis=1)\n",
    "events_df"
   ]
  },
  {
   "cell_type": "code",
   "execution_count": null,
   "metadata": {},
   "outputs": [],
   "source": [
    "events_df.sort_values(\"visitorid\")"
   ]
  },
  {
   "cell_type": "code",
   "execution_count": null,
   "metadata": {},
   "outputs": [],
   "source": [
    "users = events_df['visitorid']\n",
    "users = users.value_counts()\n",
    "users"
   ]
  },
  {
   "cell_type": "code",
   "execution_count": null,
   "metadata": {},
   "outputs": [],
   "source": [
    "user_1150086 = events_df.loc[events_df.visitorid==1150086]\n",
    "user_1150086"
   ]
  },
  {
   "cell_type": "code",
   "execution_count": null,
   "metadata": {},
   "outputs": [],
   "source": [
    "users = events_df['visitorid']\n",
    "users = users.value_counts()\n",
    "users = users.iloc[users.values > 32].index\n",
    "users = users.sort_values()"
   ]
  },
  {
   "attachments": {},
   "cell_type": "markdown",
   "metadata": {},
   "source": [
    "### 任务：将数据集改成buffer style，即按timestamp的顺序，整理成visitorid, itemid, nextitemid的形式\n"
   ]
  },
  {
   "attachments": {},
   "cell_type": "markdown",
   "metadata": {},
   "source": [
    "将events按照visitorid排序，再按照每人访问任一物品的时间顺序排序"
   ]
  },
  {
   "cell_type": "code",
   "execution_count": null,
   "metadata": {},
   "outputs": [],
   "source": [
    "events_df = events_df.sort_values(['visitorid', 'timestamp'])\n",
    "events_df"
   ]
  },
  {
   "attachments": {},
   "cell_type": "markdown",
   "metadata": {},
   "source": [
    "去除其中访问物品数小于10的events"
   ]
  },
  {
   "cell_type": "code",
   "execution_count": null,
   "metadata": {},
   "outputs": [],
   "source": [
    "users = events_df['visitorid']\n",
    "users = users.value_counts()\n",
    "users = users.iloc[users.values > 10].index\n",
    "users = users.sort_values()\n",
    "users"
   ]
  },
  {
   "cell_type": "code",
   "execution_count": null,
   "metadata": {},
   "outputs": [],
   "source": [
    "users_10_length = len(users)\n",
    "events10 = events_df.loc[events_df.visitorid==users[0]]\n",
    "for i in range(users_10_length-1):\n",
    "    events10 = pd.concat([events10, events_df.loc[events_df.visitorid==users[i+1]]])\n",
    "events10"
   ]
  },
  {
   "attachments": {},
   "cell_type": "markdown",
   "metadata": {},
   "source": [
    "将nextitemid添加到每个events中"
   ]
  },
  {
   "cell_type": "code",
   "execution_count": null,
   "metadata": {},
   "outputs": [],
   "source": [
    "events10temp = events10\n",
    "events10temp = events10temp.reset_index(drop=True)"
   ]
  },
  {
   "cell_type": "code",
   "execution_count": null,
   "metadata": {},
   "outputs": [],
   "source": [
    "group = events10temp.groupby('visitorid').groups\n",
    "group"
   ]
  },
  {
   "cell_type": "code",
   "execution_count": null,
   "metadata": {},
   "outputs": [],
   "source": [
    "events10temp=events10temp.assign(nextitemid=0)"
   ]
  },
  {
   "cell_type": "code",
   "execution_count": null,
   "metadata": {},
   "outputs": [],
   "source": [
    "events10temp"
   ]
  },
  {
   "cell_type": "code",
   "execution_count": null,
   "metadata": {},
   "outputs": [],
   "source": [
    "events_length=len(events10temp.index)\n",
    "for i in range(events_length):\n",
    "    if i+1 in group[events10temp.loc[i].visitorid]:\n",
    "        events10temp.loc[i].nextitemid=events10temp.loc[i+1].itemid\n",
    "events10temp"
   ]
  },
  {
   "cell_type": "code",
   "execution_count": null,
   "metadata": {},
   "outputs": [],
   "source": [
    "events10temp = events10temp[events10temp.nextitemid != 0]"
   ]
  },
  {
   "cell_type": "code",
   "execution_count": null,
   "metadata": {},
   "outputs": [],
   "source": [
    "events10temp"
   ]
  },
  {
   "cell_type": "code",
   "execution_count": null,
   "metadata": {},
   "outputs": [],
   "source": [
    "events10temp.to_csv(path_or_buf='./data/retailrocket/SLdata.csv')"
   ]
  },
  {
   "attachments": {},
   "cell_type": "markdown",
   "metadata": {},
   "source": [
    "把itemid对应的property加入到数据里。"
   ]
  },
  {
   "cell_type": "code",
   "execution_count": null,
   "metadata": {},
   "outputs": [],
   "source": []
  },
  {
   "attachments": {},
   "cell_type": "markdown",
   "metadata": {},
   "source": [
    "### supervised learning\n"
   ]
  },
  {
   "cell_type": "code",
   "execution_count": 1,
   "metadata": {},
   "outputs": [],
   "source": [
    "import pandas as pd\n",
    "import tensorflow as tf\n",
    "import keras\n",
    "import numpy as np\n",
    "from CFN_impl import CFNCell\n",
    "from d2l import tensorflow as d2l"
   ]
  },
  {
   "attachments": {},
   "cell_type": "markdown",
   "metadata": {},
   "source": [
    "#### load data"
   ]
  },
  {
   "cell_type": "code",
   "execution_count": 2,
   "metadata": {},
   "outputs": [
    {
     "data": {
      "text/html": [
       "<div>\n",
       "<style scoped>\n",
       "    .dataframe tbody tr th:only-of-type {\n",
       "        vertical-align: middle;\n",
       "    }\n",
       "\n",
       "    .dataframe tbody tr th {\n",
       "        vertical-align: top;\n",
       "    }\n",
       "\n",
       "    .dataframe thead th {\n",
       "        text-align: right;\n",
       "    }\n",
       "</style>\n",
       "<table border=\"1\" class=\"dataframe\">\n",
       "  <thead>\n",
       "    <tr style=\"text-align: right;\">\n",
       "      <th></th>\n",
       "      <th>user</th>\n",
       "      <th>actions</th>\n",
       "    </tr>\n",
       "  </thead>\n",
       "  <tbody>\n",
       "    <tr>\n",
       "      <th>0</th>\n",
       "      <td>54</td>\n",
       "      <td>[388096, 283115, 38965, 319680, 283115, 388096...</td>\n",
       "    </tr>\n",
       "    <tr>\n",
       "      <th>1</th>\n",
       "      <td>75</td>\n",
       "      <td>[257575, 257575, 257575, 257575, 257575, 25757...</td>\n",
       "    </tr>\n",
       "    <tr>\n",
       "      <th>2</th>\n",
       "      <td>155</td>\n",
       "      <td>[134620, 123027, 134620, 50928, 373637, 151670...</td>\n",
       "    </tr>\n",
       "    <tr>\n",
       "      <th>3</th>\n",
       "      <td>172</td>\n",
       "      <td>[397068, 55710, 464731, 403998, 18519, 27248, ...</td>\n",
       "    </tr>\n",
       "    <tr>\n",
       "      <th>4</th>\n",
       "      <td>224</td>\n",
       "      <td>[443407, 168697, 443407, 168697, 443407, 16869...</td>\n",
       "    </tr>\n",
       "    <tr>\n",
       "      <th>...</th>\n",
       "      <td>...</td>\n",
       "      <td>...</td>\n",
       "    </tr>\n",
       "    <tr>\n",
       "      <th>19577</th>\n",
       "      <td>1407206</td>\n",
       "      <td>[384514, 162046, 162046, 166941, 454393, 19838...</td>\n",
       "    </tr>\n",
       "    <tr>\n",
       "      <th>19578</th>\n",
       "      <td>1407281</td>\n",
       "      <td>[69868, 116624, 264521, 174409, 288340, 260581...</td>\n",
       "    </tr>\n",
       "    <tr>\n",
       "      <th>19579</th>\n",
       "      <td>1407340</td>\n",
       "      <td>[321676, 66145, 148153, 85858, 274436, 248140,...</td>\n",
       "    </tr>\n",
       "    <tr>\n",
       "      <th>19580</th>\n",
       "      <td>1407374</td>\n",
       "      <td>[399031, 349846, 454301, 397429, 422992, 13997...</td>\n",
       "    </tr>\n",
       "    <tr>\n",
       "      <th>19581</th>\n",
       "      <td>1407512</td>\n",
       "      <td>[107832, 364262, 326819, 326819, 54141, 334964...</td>\n",
       "    </tr>\n",
       "  </tbody>\n",
       "</table>\n",
       "<p>19582 rows × 2 columns</p>\n",
       "</div>"
      ],
      "text/plain": [
       "          user                                            actions\n",
       "0           54  [388096, 283115, 38965, 319680, 283115, 388096...\n",
       "1           75  [257575, 257575, 257575, 257575, 257575, 25757...\n",
       "2          155  [134620, 123027, 134620, 50928, 373637, 151670...\n",
       "3          172  [397068, 55710, 464731, 403998, 18519, 27248, ...\n",
       "4          224  [443407, 168697, 443407, 168697, 443407, 16869...\n",
       "...        ...                                                ...\n",
       "19577  1407206  [384514, 162046, 162046, 166941, 454393, 19838...\n",
       "19578  1407281  [69868, 116624, 264521, 174409, 288340, 260581...\n",
       "19579  1407340  [321676, 66145, 148153, 85858, 274436, 248140,...\n",
       "19580  1407374  [399031, 349846, 454301, 397429, 422992, 13997...\n",
       "19581  1407512  [107832, 364262, 326819, 326819, 54141, 334964...\n",
       "\n",
       "[19582 rows x 2 columns]"
      ]
     },
     "execution_count": 2,
     "metadata": {},
     "output_type": "execute_result"
    }
   ],
   "source": [
    "dataset = pd.read_csv('./data/retailrocket/seqData.csv')\n",
    "dataset"
   ]
  },
  {
   "cell_type": "code",
   "execution_count": 3,
   "metadata": {},
   "outputs": [],
   "source": [
    "items1 = pd.read_csv('./data/retailrocket/item_properties_part1.csv')\n",
    "items2 = pd.read_csv('./data/retailrocket/item_properties_part2.csv')\n",
    "items = pd.concat([items1, items2])"
   ]
  },
  {
   "cell_type": "code",
   "execution_count": 4,
   "metadata": {},
   "outputs": [
    {
     "data": {
      "text/plain": [
       "417053"
      ]
     },
     "execution_count": 4,
     "metadata": {},
     "output_type": "execute_result"
    }
   ],
   "source": [
    "item_size = items.itemid.nunique()\n",
    "item_size"
   ]
  },
  {
   "cell_type": "code",
   "execution_count": 5,
   "metadata": {},
   "outputs": [],
   "source": [
    "embed = tf.keras.layers.Embedding(\n",
    "    input_dim=item_size, \n",
    "    output_dim=32,\n",
    "    embeddings_initializer='uniform',\n",
    "    input_length=1\n",
    ")"
   ]
  },
  {
   "cell_type": "code",
   "execution_count": 8,
   "metadata": {},
   "outputs": [
    {
     "data": {
      "text/plain": [
       "array([460429, 206783, 395014, ..., 449778, 352709, 170360])"
      ]
     },
     "execution_count": 8,
     "metadata": {},
     "output_type": "execute_result"
    }
   ],
   "source": [
    "item_list = items.itemid.unique()\n",
    "item_list"
   ]
  },
  {
   "cell_type": "code",
   "execution_count": 15,
   "metadata": {},
   "outputs": [],
   "source": [
    "items_embedded = embed(item_list)"
   ]
  },
  {
   "cell_type": "code",
   "execution_count": 11,
   "metadata": {},
   "outputs": [],
   "source": [
    "lookup = tf.nn.embedding_lookup"
   ]
  },
  {
   "cell_type": "code",
   "execution_count": 6,
   "metadata": {},
   "outputs": [],
   "source": [
    "class RNNModel(tf.keras.layers.Layer):\n",
    "    def __init__(self, rnn_layer, item_size, **kwargs):\n",
    "        super(RNNModel, self).__init__(**kwargs)\n",
    "        self.rnn = rnn_layer\n",
    "        self.dense = tf.keras.layers.Dense(32)\n",
    "        self.dropout = tf.keras.layers.Dropout(0.1)\n",
    "        self.item_embed = tf.keras.layers.Embedding(\n",
    "            input_dim=item_size, output_dim=32\n",
    "        )\n",
    "        # self.state_embed = tf.keras.layers.Embedding(\n",
    "        #     input_dim=1, output_dim=32\n",
    "        # )\n",
    "\n",
    "\n",
    "    def call(self, inputs, state):\n",
    "        X = inputs\n",
    "        #X = self.item_embed(inputs)\n",
    "        # rnn返回两个以上的值\n",
    "        Y, *state = self.rnn(X, state)\n",
    "        output_ = self.dropout(Y)\n",
    "        output = self.dense(tf.reshape(output_, (-1, Y.shape[-1])))\n",
    "        return output, state\n",
    "\n",
    "    def begin_state(self, *args, **kwargs):\n",
    "        return self.rnn.cell.get_initial_state(*args, **kwargs)"
   ]
  },
  {
   "cell_type": "code",
   "execution_count": null,
   "metadata": {},
   "outputs": [],
   "source": []
  },
  {
   "cell_type": "code",
   "execution_count": null,
   "metadata": {},
   "outputs": [],
   "source": []
  },
  {
   "cell_type": "code",
   "execution_count": null,
   "metadata": {},
   "outputs": [],
   "source": []
  },
  {
   "cell_type": "code",
   "execution_count": null,
   "metadata": {},
   "outputs": [],
   "source": []
  },
  {
   "cell_type": "code",
   "execution_count": null,
   "metadata": {},
   "outputs": [],
   "source": []
  },
  {
   "cell_type": "code",
   "execution_count": null,
   "metadata": {},
   "outputs": [],
   "source": []
  },
  {
   "attachments": {},
   "cell_type": "markdown",
   "metadata": {},
   "source": [
    "## 现在的问题是，怎么用特征向量表示每个物品。"
   ]
  },
  {
   "attachments": {},
   "cell_type": "markdown",
   "metadata": {},
   "source": [
    "两种方法：\n",
    "1. onehot，怎么解决维数过大问题\n",
    "2. embedding，怎么用。"
   ]
  }
 ],
 "metadata": {
  "kernelspec": {
   "display_name": "d2l",
   "language": "python",
   "name": "python3"
  },
  "language_info": {
   "codemirror_mode": {
    "name": "ipython",
    "version": 3
   },
   "file_extension": ".py",
   "mimetype": "text/x-python",
   "name": "python",
   "nbconvert_exporter": "python",
   "pygments_lexer": "ipython3",
   "version": "3.9.16"
  },
  "orig_nbformat": 4
 },
 "nbformat": 4,
 "nbformat_minor": 2
}
